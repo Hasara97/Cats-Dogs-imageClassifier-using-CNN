{
 "cells": [
  {
   "cell_type": "code",
   "execution_count": 1,
   "metadata": {},
   "outputs": [],
   "source": [
    "import numpy as np\n",
    "\n",
    "data =np.load('data.npy')\n",
    "target = np.load('target.npy')\n",
    "\n",
    "#loading the data/target from previous code "
   ]
  },
  {
   "cell_type": "code",
   "execution_count": 2,
   "metadata": {},
   "outputs": [
    {
     "name": "stderr",
     "output_type": "stream",
     "text": [
      "Using TensorFlow backend.\n"
     ]
    }
   ],
   "source": [
    "from keras.models import Sequential\n",
    "from keras.layers import Dense, Activation, Flatten\n",
    "from keras.layers import Conv2D, MaxPooling2D\n",
    "\n",
    "model = Sequential()\n",
    "\n",
    "model.add(Conv2D(256,(3,3), input_shape=data.shape[1:]))\n",
    "model.add(Activation('relu'))\n",
    "model.add(MaxPooling2D(pool_size=(2,2)))\n",
    "#The first CNN layer followed by relu activation and MaxPooling\n",
    "\n",
    "model.add(Conv2D(128,(3,3)))\n",
    "model.add(Activation('relu'))\n",
    "model.add(MaxPooling2D(pool_size=(2,2)))\n",
    "#The second layer of CNN followed by relu activation and MaxPooling\n",
    "\n",
    "model.add(Flatten())\n",
    "#Flatten layet to stack the output from the convolutions from second convolution layer\n",
    "\n",
    "model.add(Dense(64, activation= 'relu'))\n",
    "#dense layer of 64 neurons\n",
    "\n",
    "model.add(Dense(2,activation='softmax'))\n",
    "#the final layer with two outputs for two categories\n",
    "\n",
    "model.compile(loss='categorical_crossentropy', optimizer='adam',metrics=['accuracy'])\n"
   ]
  },
  {
   "cell_type": "code",
   "execution_count": 3,
   "metadata": {},
   "outputs": [],
   "source": [
    "from sklearn.model_selection import train_test_split\n",
    "\n",
    "train_data, test_data, train_target, test_target = train_test_split(data, target, test_size=0.1)"
   ]
  },
  {
   "cell_type": "code",
   "execution_count": 4,
   "metadata": {},
   "outputs": [
    {
     "name": "stdout",
     "output_type": "stream",
     "text": [
      "Epoch 1/10\n",
      "22451/22451 [==============================] - 425s 19ms/step - loss: 0.6426 - accuracy: 0.6239\n",
      "Epoch 2/10\n",
      "22451/22451 [==============================] - 438s 19ms/step - loss: 0.5510 - accuracy: 0.7222\n",
      "Epoch 3/10\n",
      "22451/22451 [==============================] - 394s 18ms/step - loss: 0.4990 - accuracy: 0.7584\n",
      "Epoch 4/10\n",
      "22451/22451 [==============================] - 393s 18ms/step - loss: 0.4722 - accuracy: 0.7752\n",
      "Epoch 5/10\n",
      "22451/22451 [==============================] - 393s 18ms/step - loss: 0.4509 - accuracy: 0.7890\n",
      "Epoch 6/10\n",
      "22451/22451 [==============================] - 392s 17ms/step - loss: 0.4212 - accuracy: 0.8050\n",
      "Epoch 7/10\n",
      "22451/22451 [==============================] - 396s 18ms/step - loss: 0.4018 - accuracy: 0.8181\n",
      "Epoch 8/10\n",
      "22451/22451 [==============================] - 399s 18ms/step - loss: 0.3812 - accuracy: 0.8270\n",
      "Epoch 9/10\n",
      "22451/22451 [==============================] - 398s 18ms/step - loss: 0.3550 - accuracy: 0.8425\n",
      "Epoch 10/10\n",
      "22451/22451 [==============================] - 396s 18ms/step - loss: 0.3335 - accuracy: 0.8543\n"
     ]
    }
   ],
   "source": [
    "train_infor=model.fit(train_data,train_target, epochs=10)"
   ]
  },
  {
   "cell_type": "code",
   "execution_count": 5,
   "metadata": {},
   "outputs": [
    {
     "data": {
      "text/plain": [
       "[<matplotlib.lines.Line2D at 0x1925d6a5fc8>]"
      ]
     },
     "execution_count": 5,
     "metadata": {},
     "output_type": "execute_result"
    }
   ],
   "source": [
    "from matplotlib import pyplot as plt \n",
    "\n",
    "plt.plot(train_infor.history['loss'])"
   ]
  },
  {
   "cell_type": "code",
   "execution_count": 6,
   "metadata": {},
   "outputs": [
    {
     "data": {
      "text/plain": [
       "[<matplotlib.lines.Line2D at 0x1925d83cbc8>]"
      ]
     },
     "execution_count": 6,
     "metadata": {},
     "output_type": "execute_result"
    },
    {
     "data": {
      "image/png": "[encoded data removed]",
      "text/plain": [
       "<Figure size 432x288 with 1 Axes>"
      ]
     },
     "metadata": {
      "needs_background": "light"
     },
     "output_type": "display_data"
    }
   ],
   "source": [
    "plt.plot(train_infor.history['accuracy'])"
   ]
  },
  {
   "cell_type": "code",
   "execution_count": 7,
   "metadata": {},
   "outputs": [
    {
     "name": "stdout",
     "output_type": "stream",
     "text": [
      "2495/2495 [==============================] - 15s 6ms/step\n",
      "[0.5162005451494802, 0.7775551080703735]\n"
     ]
    }
   ],
   "source": [
    "print(model.evaluate(test_data, test_target))"
   ]
  },
  {
   "cell_type": "code",
   "execution_count": null,
   "metadata": {},
   "outputs": [],
   "source": []
  }
 ],
 "metadata": {
  "kernelspec": {
   "display_name": "Python 3",
   "language": "python",
   "name": "python3"
  },
  "language_info": {
   "codemirror_mode": {
    "name": "ipython",
    "version": 3
   },
   "file_extension": ".py",
   "mimetype": "text/x-python",
   "name": "python",
   "nbconvert_exporter": "python",
   "pygments_lexer": "ipython3",
   "version": "3.7.4"
  }
 },
 "nbformat": 4,
 "nbformat_minor": 2
}
